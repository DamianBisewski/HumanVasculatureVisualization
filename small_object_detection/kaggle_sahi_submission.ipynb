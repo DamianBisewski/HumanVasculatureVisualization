{
 "cells": [
  {
   "cell_type": "code",
   "execution_count": 1,
   "id": "0da7c46e",
   "metadata": {
    "execution": {
     "iopub.execute_input": "2024-06-01T22:49:47.802395Z",
     "iopub.status.busy": "2024-06-01T22:49:47.802039Z",
     "iopub.status.idle": "2024-06-01T22:51:10.104021Z",
     "shell.execute_reply": "2024-06-01T22:51:10.102875Z"
    },
    "papermill": {
     "duration": 82.311237,
     "end_time": "2024-06-01T22:51:10.106453",
     "exception": false,
     "start_time": "2024-06-01T22:49:47.795216",
     "status": "completed"
    },
    "tags": []
   },
   "outputs": [],
   "source": [
    "!pip install -q --no-index /kaggle/input/mmdetv3-env/archive/addict-2.4.0-py3-none-any.whl\n",
    "# !pip install -q --no-index /kaggle/input/mmdetv3-env/archive/mmengine-0.7.4-py3-none-any.whl\n",
    "!pip install -q --no-index /kaggle/input/vasculature-packages/mmengine-0.8.3-py3-none-any.whl\n",
    "!pip install -q --no-index /kaggle/input/mmdetv3-env/archive/mmcv-2.0.0-cp310-cp310-linux_x86_64.whl\n",
    "!pip install -q --no-index /kaggle/input/mmdetv3-env/archive/terminaltables-3.1.10-py2.py3-none-any.whl\n",
    "!pip install -q --no-index /kaggle/input/pycocotools-206/wheels/pycocotools-2.0.6-cp310-cp310-linux_x86_64.whl\n",
    "!pip install -q --no-index /kaggle/input/mmdetection-3-1-evn/src/mmdet-3.1.0-py3-none-any.whl\n",
    "!pip install -q --no-index /kaggle/input/vasculature-packages/ensemble_boxes-1.0.9-py3-none-any.whl"
   ]
  },
  {
   "cell_type": "code",
   "execution_count": 2,
   "id": "cdacdf67",
   "metadata": {
    "execution": {
     "iopub.execute_input": "2024-06-01T22:51:10.118303Z",
     "iopub.status.busy": "2024-06-01T22:51:10.118006Z",
     "iopub.status.idle": "2024-06-01T22:51:58.199118Z",
     "shell.execute_reply": "2024-06-01T22:51:58.197914Z"
    },
    "papermill": {
     "duration": 48.089624,
     "end_time": "2024-06-01T22:51:58.201643",
     "exception": false,
     "start_time": "2024-06-01T22:51:10.112019",
     "status": "completed"
    },
    "tags": []
   },
   "outputs": [
    {
     "name": "stdout",
     "output_type": "stream",
     "text": [
      "Processing /kaggle/input/vasculature-packages/mmpretrain-1.0.1-py2.py3-none-any.whl\r\n",
      "Installing collected packages: mmpretrain\r\n",
      "Successfully installed mmpretrain-1.0.1\r\n"
     ]
    }
   ],
   "source": [
    "!pip install -q --no-index /kaggle/input/vasculature-packages/ordered_set-4.1.0-py3-none-any.whl\n",
    "!pip install -q --no-index /kaggle/input/vasculature-packages/model_index-0.1.11-py3-none-any.whl\n",
    "!pip install -q --no-index /kaggle/input/vasculature-packages/einops-0.6.1-py3-none-any.whl\n",
    "!pip install -q --no-index /kaggle/input/vasculature-packages/mat4py-0.5.0-py2.py3-none-any.whl\n",
    "!pip install --no-deps --no-index /kaggle/input/vasculature-packages/mmpretrain-1.0.1-py2.py3-none-any.whl"
   ]
  },
  {
   "cell_type": "code",
   "execution_count": 3,
   "id": "f4285298",
   "metadata": {
    "execution": {
     "iopub.execute_input": "2024-06-01T22:51:58.214434Z",
     "iopub.status.busy": "2024-06-01T22:51:58.214071Z",
     "iopub.status.idle": "2024-06-01T22:52:54.617799Z",
     "shell.execute_reply": "2024-06-01T22:52:54.616653Z"
    },
    "papermill": {
     "duration": 56.412898,
     "end_time": "2024-06-01T22:52:54.620354",
     "exception": false,
     "start_time": "2024-06-01T22:51:58.207456",
     "status": "completed"
    },
    "tags": []
   },
   "outputs": [],
   "source": [
    "#import os\n",
    "#\n",
    "# Specify the directory you want to list\n",
    "#directory = '/kaggle/input/sahi-0-11-16'\n",
    "\n",
    "# List all files in the specified directory\n",
    "#files = os.listdir(directory)\n",
    "\n",
    "# Print the list of files\n",
    "#for file in files:\n",
    "#    print(file)\n",
    "\n",
    "!pip install -q --no-index /kaggle/input/sahi-0-11-16/terminaltables-3.1.10-py2.py3-none-any.whl\n",
    "!pip install -q --no-index /kaggle/input/sahi-0-11-16/fire-0.6.0-py2.py3-none-any.whl\n",
    "!pip install -q --no-index /kaggle/input/sahi-0-11-16/pybboxes-0.1.6-py3-none-any.whl\n",
    "!pip install -q --no-index /kaggle/input/sahi-0-11-16/shapely-2.0.4-cp310-cp310-manylinux_2_17_x86_64.manylinux2014_x86_64.whl\n",
    "!pip install -q --no-index /kaggle/input/sahi-0-11-16/sahi-0.11.16.shapelyfix-py3-none-any.whl"
   ]
  },
  {
   "cell_type": "code",
   "execution_count": 4,
   "id": "452d94ce",
   "metadata": {
    "execution": {
     "iopub.execute_input": "2024-06-01T22:52:54.632897Z",
     "iopub.status.busy": "2024-06-01T22:52:54.632528Z",
     "iopub.status.idle": "2024-06-01T22:52:55.623822Z",
     "shell.execute_reply": "2024-06-01T22:52:55.622686Z"
    },
    "papermill": {
     "duration": 1.000429,
     "end_time": "2024-06-01T22:52:55.626307",
     "exception": false,
     "start_time": "2024-06-01T22:52:54.625878",
     "status": "completed"
    },
    "tags": []
   },
   "outputs": [],
   "source": [
    "!cp -r /kaggle/input/hubmap-2023-modules /kaggle/working/hubmap_modules"
   ]
  },
  {
   "cell_type": "code",
   "execution_count": 5,
   "id": "0fcadcac",
   "metadata": {
    "execution": {
     "iopub.execute_input": "2024-06-01T22:52:55.638475Z",
     "iopub.status.busy": "2024-06-01T22:52:55.638146Z",
     "iopub.status.idle": "2024-06-01T22:52:56.584279Z",
     "shell.execute_reply": "2024-06-01T22:52:56.583100Z"
    },
    "papermill": {
     "duration": 0.954814,
     "end_time": "2024-06-01T22:52:56.586642",
     "exception": false,
     "start_time": "2024-06-01T22:52:55.631828",
     "status": "completed"
    },
    "tags": []
   },
   "outputs": [
    {
     "name": "stdout",
     "output_type": "stream",
     "text": [
      "__init__.py  rtmdet_mask.py  yolox_mask.py\r\n"
     ]
    }
   ],
   "source": [
    "!ls /kaggle/working/hubmap_modules/"
   ]
  },
  {
   "cell_type": "code",
   "execution_count": 6,
   "id": "e13706e5",
   "metadata": {
    "execution": {
     "iopub.execute_input": "2024-06-01T22:52:56.598974Z",
     "iopub.status.busy": "2024-06-01T22:52:56.598609Z",
     "iopub.status.idle": "2024-06-01T22:52:56.602994Z",
     "shell.execute_reply": "2024-06-01T22:52:56.602187Z"
    },
    "papermill": {
     "duration": 0.012571,
     "end_time": "2024-06-01T22:52:56.604866",
     "exception": false,
     "start_time": "2024-06-01T22:52:56.592295",
     "status": "completed"
    },
    "tags": []
   },
   "outputs": [],
   "source": [
    "import os\n",
    "import json"
   ]
  },
  {
   "cell_type": "code",
   "execution_count": 7,
   "id": "697cdd1f",
   "metadata": {
    "execution": {
     "iopub.execute_input": "2024-06-01T22:52:56.616434Z",
     "iopub.status.busy": "2024-06-01T22:52:56.616150Z",
     "iopub.status.idle": "2024-06-01T22:53:14.919709Z",
     "shell.execute_reply": "2024-06-01T22:53:14.918222Z"
    },
    "papermill": {
     "duration": 18.311854,
     "end_time": "2024-06-01T22:53:14.921785",
     "exception": false,
     "start_time": "2024-06-01T22:52:56.609931",
     "status": "completed"
    },
    "tags": []
   },
   "outputs": [
    {
     "name": "stderr",
     "output_type": "stream",
     "text": [
      "/opt/conda/lib/python3.10/site-packages/scipy/__init__.py:146: UserWarning: A NumPy version >=1.16.5 and <1.23.0 is required for this version of SciPy (detected version 1.23.5\n",
      "  warnings.warn(f\"A NumPy version >={np_minversion} and <{np_maxversion}\"\n",
      "/opt/conda/lib/python3.10/site-packages/tensorflow_io/python/ops/__init__.py:98: UserWarning: unable to load libtensorflow_io_plugins.so: unable to open file: libtensorflow_io_plugins.so, from paths: ['/opt/conda/lib/python3.10/site-packages/tensorflow_io/python/ops/libtensorflow_io_plugins.so']\n",
      "caused by: ['/opt/conda/lib/python3.10/site-packages/tensorflow_io/python/ops/libtensorflow_io_plugins.so: undefined symbol: _ZN3tsl6StatusC1EN10tensorflow5error4CodeESt17basic_string_viewIcSt11char_traitsIcEENS_14SourceLocationE']\n",
      "  warnings.warn(f\"unable to load libtensorflow_io_plugins.so: {e}\")\n",
      "/opt/conda/lib/python3.10/site-packages/tensorflow_io/python/ops/__init__.py:104: UserWarning: file system plugins are not loaded: unable to open file: libtensorflow_io.so, from paths: ['/opt/conda/lib/python3.10/site-packages/tensorflow_io/python/ops/libtensorflow_io.so']\n",
      "caused by: ['/opt/conda/lib/python3.10/site-packages/tensorflow_io/python/ops/libtensorflow_io.so: undefined symbol: _ZTVN10tensorflow13GcsFileSystemE']\n",
      "  warnings.warn(f\"file system plugins are not loaded: {e}\")\n"
     ]
    },
    {
     "name": "stdout",
     "output_type": "stream",
     "text": [
      "no vis_backends\n",
      "no visualizer\n"
     ]
    }
   ],
   "source": [
    "from mmengine import Config\n",
    "from mmdet.utils import register_all_modules\n",
    "from mmengine.registry import init_default_scope\n",
    "from mmdet.apis import init_detector\n",
    "\n",
    "# Choose to use a config and initialize the detector\n",
    "config_file = '/kaggle/input/hubmap-2023-configs/r0i.py'\n",
    "cfg = Config.fromfile(config_file)\n",
    "\n",
    "if 'vis_backends' not in cfg:\n",
    "    print(\"no vis_backends\")\n",
    "    vis_backends = [dict(type='LocalVisBackend')]\n",
    "    cfg['vis_backends'] = vis_backends\n",
    "if 'vis_backends' not in cfg:\n",
    "    print(\"no vis_backends2\")\n",
    "if 'visualizer' not in cfg:\n",
    "    print(\"no visualizer\")\n",
    "    visualizer = dict(\n",
    "        type='DetLocalVisualizer',\n",
    "        vis_backends=vis_backends,\n",
    "        name='visualizer')\n",
    "    cfg['visualizer'] = visualizer\n",
    "if 'visualizer' not in cfg:\n",
    "    print(\"no visualizer2\")\n",
    "\n",
    "# Setup a checkpoint file to load\n",
    "checkpoint_file = '/kaggle/input/hubmap-2023-checkpoints/r0i.pth'"
   ]
  },
  {
   "cell_type": "code",
   "execution_count": 8,
   "id": "fe3503c9",
   "metadata": {
    "execution": {
     "iopub.execute_input": "2024-06-01T22:53:14.934346Z",
     "iopub.status.busy": "2024-06-01T22:53:14.934040Z",
     "iopub.status.idle": "2024-06-01T22:53:14.953661Z",
     "shell.execute_reply": "2024-06-01T22:53:14.952951Z"
    },
    "papermill": {
     "duration": 0.028182,
     "end_time": "2024-06-01T22:53:14.955655",
     "exception": false,
     "start_time": "2024-06-01T22:53:14.927473",
     "status": "completed"
    },
    "tags": []
   },
   "outputs": [],
   "source": [
    "from sahi import AutoDetectionModel\n",
    "from sahi.predict import get_sliced_prediction, get_prediction\n",
    "from sahi.utils.cv import read_image_as_pil\n",
    "import mmcv"
   ]
  },
  {
   "cell_type": "code",
   "execution_count": 9,
   "id": "bad13942",
   "metadata": {
    "execution": {
     "iopub.execute_input": "2024-06-01T22:53:14.968275Z",
     "iopub.status.busy": "2024-06-01T22:53:14.967545Z",
     "iopub.status.idle": "2024-06-01T22:53:14.973984Z",
     "shell.execute_reply": "2024-06-01T22:53:14.973149Z"
    },
    "papermill": {
     "duration": 0.014724,
     "end_time": "2024-06-01T22:53:14.975917",
     "exception": false,
     "start_time": "2024-06-01T22:53:14.961193",
     "status": "completed"
    },
    "tags": []
   },
   "outputs": [],
   "source": [
    "from sahi.utils.cv import read_image_as_pil\n",
    "\n",
    "def sahi_detect( config_path, model_path, image_path, confidence_threshold ):\n",
    "    detection_model = AutoDetectionModel.from_pretrained(\n",
    "        model_type='mmdet',\n",
    "        model_path = model_path,\n",
    "        config_path = config_path,\n",
    "        confidence_threshold=confidence_threshold,\n",
    "        category_mapping={'0':'blood vessel',\n",
    "                          '1':'glomerulus',\n",
    "                          '2':'unsure'},\n",
    "        device=\"cuda:0\"\n",
    "    )\n",
    "    \n",
    "    # Ensure dataset_meta is not None\n",
    "    #if detection_model.model.dataset_meta is None:\n",
    "    #    detection_model.model.dataset_meta = {\n",
    "    #        'CLASSES': ['blood vessel', 'glomerulus', 'unsure']\n",
    "    #    }\n",
    "    result = get_sliced_prediction(\n",
    "        image_path,\n",
    "        detection_model,\n",
    "        slice_height = 192,\n",
    "        slice_width = 192,\n",
    "        overlap_height_ratio = 0.5,\n",
    "        overlap_width_ratio = 0.5, \n",
    "    )\n",
    "    \n",
    "    return result"
   ]
  },
  {
   "cell_type": "code",
   "execution_count": 10,
   "id": "c13aeae1",
   "metadata": {
    "execution": {
     "iopub.execute_input": "2024-06-01T22:53:14.988069Z",
     "iopub.status.busy": "2024-06-01T22:53:14.987535Z",
     "iopub.status.idle": "2024-06-01T22:53:15.005471Z",
     "shell.execute_reply": "2024-06-01T22:53:15.004621Z"
    },
    "papermill": {
     "duration": 0.025929,
     "end_time": "2024-06-01T22:53:15.007305",
     "exception": false,
     "start_time": "2024-06-01T22:53:14.981376",
     "status": "completed"
    },
    "tags": []
   },
   "outputs": [],
   "source": [
    "# kod nie jest skonczony\n",
    "# post processing wyników analizy SAHI\n",
    "import numpy as np\n",
    "import cv2\n",
    "from sahi import Mask\n",
    "\n",
    "def check_bbox_containment(outer_bbox, inner_bbox):\n",
    "    \"\"\"Check if one bounding box is completely within another.\"\"\"\n",
    "    return (outer_bbox.minx <= inner_bbox.minx <= inner_bbox.maxx <= outer_bbox.maxx) and (outer_bbox.miny <= inner_bbox.miny <= inner_bbox.maxy <= outer_bbox.maxy)\n",
    "\n",
    "def check_mask_containment(outer_mask, inner_mask):\n",
    "    \"\"\"Check if one binary mask is completely within another.\"\"\"\n",
    "    return np.all(np.logical_and(outer_mask.bool_mask, inner_mask.bool_mask) == inner_mask.bool_mask)\n",
    "\n",
    "def calculate_mask_overlap(mask1, mask2):\n",
    "    \"\"\"Calculate the overlap ratio between two binary masks.\"\"\"\n",
    "    intersection = np.logical_and(mask1.bool_mask, mask2.bool_mask)\n",
    "    union = np.logical_or(mask1.bool_mask, mask2.bool_mask)\n",
    "    overlap_ratio = np.sum(intersection) / np.sum(union)\n",
    "    return overlap_ratio\n",
    "\n",
    "def remove_smaller_continuous_masks(mask, index):\n",
    "    \"\"\"Display information about the number of continuous regions in a mask without modifying it.\"\"\"\n",
    "    mask_uint8 = mask.bool_mask.astype(np.uint8)\n",
    "    num_labels, labels, stats, _ = cv2.connectedComponentsWithStats(mask_uint8)\n",
    "    if num_labels <= 2:\n",
    "        return mask\n",
    "    \n",
    "    print(f\"BBox at index {index} contains {num_labels - 1} continuous regions (excluding background).\")\n",
    "    # Find the largest component (excluding the background)\n",
    "    largest_label = 1 + np.argmax(stats[1:, cv2.CC_STAT_AREA])\n",
    "    largest_mask = (labels == largest_label)\n",
    "    return Mask(bool_mask=largest_mask.astype(np.bool_),\n",
    "                full_shape=largest_mask.shape)\n",
    "\n",
    "def filter_contained_predictions(predictions, overlap_threshold=0.5):\n",
    "    \"\"\"Filter out predictions that have masks completely contained within larger masks, giving priority to higher score values.\"\"\"\n",
    "    n = len(predictions)\n",
    "    keep = np.ones(n, dtype=bool)  # Array to mark which predictions to keep\n",
    "\n",
    "    for i in range(n):       \n",
    "        # Ensure only the largest continuous mask remains\n",
    "        predictions[i].mask = remove_smaller_continuous_masks(predictions[i].mask, i)\n",
    "    \n",
    "    for i in range(n):\n",
    "        if not keep[i]:  # Skip already marked for removal\n",
    "            continue\n",
    "        \n",
    "        for j in range(i + 1, n):\n",
    "            if not keep[j]:  # Skip already marked for removal\n",
    "                continue\n",
    "            overlap_ratio = calculate_mask_overlap(predictions[i].mask, predictions[j].mask)\n",
    "            if overlap_ratio > overlap_threshold:\n",
    "                if predictions[i].score.value > predictions[j].score.value:\n",
    "                    if( predictions[i].category.id != predictions[j].category.id ):\n",
    "                        print(\"keep j, overlap: \", overlap_ratio)\n",
    "                        print(\"i: \", predictions[i].category.id)\n",
    "                        print(\"j: \", predictions[j].category.id)\n",
    "                    keep[j] = False\n",
    "                elif predictions[i].score.value < predictions[j].score.value:\n",
    "                    if( predictions[i].category.id != predictions[j].category.id ):\n",
    "                        print(\"keep i, overlap: \", overlap_ratio)\n",
    "                        print(\"i: \", predictions[i].category.id)\n",
    "                        print(\"j: \", predictions[j].category.id)\n",
    "                    keep[i] = False\n",
    "                else:  # Same confidence level, remove the smaller mask\n",
    "                    if np.sum(predictions[i].mask.bool_mask) > np.sum(predictions[j].mask.bool_mask):\n",
    "                        keep[j] = False\n",
    "                        print(\"keep j, overlap: \", overlap_ratio)\n",
    "                    else:\n",
    "                        keep[i] = False\n",
    "                        print(\"keep i, overlap: \", overlap_ratio)\n",
    "                    if( predictions[i].category.id != predictions[j].category.id ):\n",
    "                        print(\"i: \", predictions[i].category.id)\n",
    "                        print(\"j: \", predictions[j].category.id)\n",
    "\n",
    "    return [pred for pred, k in zip(predictions, keep) if k]"
   ]
  },
  {
   "cell_type": "code",
   "execution_count": 11,
   "id": "ef65fa1f",
   "metadata": {
    "execution": {
     "iopub.execute_input": "2024-06-01T22:53:15.019274Z",
     "iopub.status.busy": "2024-06-01T22:53:15.019020Z",
     "iopub.status.idle": "2024-06-01T22:53:15.026324Z",
     "shell.execute_reply": "2024-06-01T22:53:15.025476Z"
    },
    "papermill": {
     "duration": 0.015457,
     "end_time": "2024-06-01T22:53:15.028233",
     "exception": false,
     "start_time": "2024-06-01T22:53:15.012776",
     "status": "completed"
    },
    "tags": []
   },
   "outputs": [],
   "source": [
    "import base64\n",
    "import numpy as np\n",
    "from pycocotools import _mask as coco_mask\n",
    "import typing as t\n",
    "import zlib\n",
    "\n",
    "\n",
    "def encode_binary_mask(mask: np.ndarray) -> t.Text:\n",
    "  \"\"\"Converts a binary mask into OID challenge encoding ascii text.\"\"\"\n",
    "\n",
    "  # check input mask --\n",
    "  if mask.dtype != np.bool_:\n",
    "    raise ValueError(\n",
    "        \"encode_binary_mask expects a binary mask, received dtype == %s\" %\n",
    "        mask.dtype)\n",
    "\n",
    "  mask = np.squeeze(mask)\n",
    "  if len(mask.shape) != 2:\n",
    "    raise ValueError(\n",
    "        \"encode_binary_mask expects a 2d mask, received shape == %s\" %\n",
    "        mask.shape)\n",
    "\n",
    "  # convert input mask to expected COCO API input --\n",
    "  mask_to_encode = mask.reshape(mask.shape[0], mask.shape[1], 1)\n",
    "  mask_to_encode = mask_to_encode.astype(np.uint8)\n",
    "  mask_to_encode = np.asfortranarray(mask_to_encode)\n",
    "\n",
    "  # RLE encode mask --\n",
    "  encoded_mask = coco_mask.encode(mask_to_encode)[0][\"counts\"]\n",
    "\n",
    "  # compress and base64 encoding --\n",
    "  binary_str = zlib.compress(encoded_mask, zlib.Z_BEST_COMPRESSION)\n",
    "  base64_str = base64.b64encode(binary_str)\n",
    "  return base64_str"
   ]
  },
  {
   "cell_type": "code",
   "execution_count": 12,
   "id": "b4b47b47",
   "metadata": {
    "execution": {
     "iopub.execute_input": "2024-06-01T22:53:15.040146Z",
     "iopub.status.busy": "2024-06-01T22:53:15.039877Z",
     "iopub.status.idle": "2024-06-01T22:53:32.738323Z",
     "shell.execute_reply": "2024-06-01T22:53:32.737278Z"
    },
    "papermill": {
     "duration": 17.706814,
     "end_time": "2024-06-01T22:53:32.740522",
     "exception": false,
     "start_time": "2024-06-01T22:53:15.033708",
     "status": "completed"
    },
    "tags": []
   },
   "outputs": [
    {
     "name": "stdout",
     "output_type": "stream",
     "text": [
      "Loads checkpoint by local backend from path: /kaggle/input/hubmap-2023-checkpoints/r0i.pth\n"
     ]
    },
    {
     "name": "stderr",
     "output_type": "stream",
     "text": [
      "/opt/conda/lib/python3.10/site-packages/mmdet/apis/det_inferencer.py:129: UserWarning: dataset_meta or class names are not saved in the checkpoint's meta data, use COCO classes by default.\n",
      "  warnings.warn(\n"
     ]
    },
    {
     "name": "stdout",
     "output_type": "stream",
     "text": [
      "06/01 22:53:22 - mmengine - \u001b[5m\u001b[4m\u001b[33mWARNING\u001b[0m - Failed to search registry with scope \"mmdet\" in the \"function\" registry tree. As a workaround, the current \"function\" registry in \"mmengine\" is used to build instance. This may cause unexpected failure when running the built modules. Please check whether \"mmdet\" is a correct scope, or whether the registry is initialized.\n",
      "Performing prediction on 25 slices.\n"
     ]
    },
    {
     "name": "stderr",
     "output_type": "stream",
     "text": [
      "/opt/conda/lib/python3.10/site-packages/torch/functional.py:504: UserWarning: torch.meshgrid: in an upcoming release, it will be required to pass the indexing argument. (Triggered internally at /usr/local/src/pytorch/aten/src/ATen/native/TensorShape.cpp:3483.)\n",
      "  return _VF.meshgrid(tensors, **kwargs)  # type: ignore[attr-defined]\n"
     ]
    },
    {
     "name": "stdout",
     "output_type": "stream",
     "text": [
      "BBox at index 6 contains 2 continuous regions (excluding background).\n",
      "BBox at index 8 contains 2 continuous regions (excluding background).\n",
      "BBox at index 9 contains 2 continuous regions (excluding background).\n",
      "BBox at index 14 contains 5 continuous regions (excluding background).\n",
      "keep j, overlap:  0.7423376623376623\n",
      "i:  0\n",
      "j:  2\n",
      "keep j, overlap:  0.311819662295363\n",
      "i:  0\n",
      "j:  1\n",
      "keep j, overlap:  0.17681728880157171\n",
      "i:  0\n",
      "j:  1\n",
      "keep j, overlap:  0.09945609945609946\n",
      "i:  0\n",
      "j:  1\n",
      "keep j, overlap:  0.37667638483965016\n",
      "i:  0\n",
      "j:  1\n",
      "keep j, overlap:  0.9192399049881235\n",
      "i:  0\n",
      "j:  2\n",
      "['72e40acccadf']\n",
      "['0 0.5834237337112427 eNqLjwg0tUy3N/Az8jXxM/Q38jXyN8SEBgb+BgZg0tAAxIOwDKBsEDD0h7IN/bGTSAChC4PvDzMfZg2c9Dfyh9J+ICeBeCCWEdDhxr7GINLP0CA4IsYQAG7FLuU= 0 0.5798718929290771 eNrLz8sysU6yN/U1z3SI9k+3Czb0MUAAQ38YiWDhJ1HVGvojxJBlYTwYaeRn6G3qF5kQYgQAjRMhRw== 0 0.5598159432411194 eNotjMsOwlAIRH9pgDQuNG3d1luIidGFxtdCq4n+/1LmVggMgcNM37Ppp7OhnPrFtWtCXEMAKqCOjBjNTSJkuPWbS9fUvgSSEJeQmSfJH84JawASEFC5y+SG/qn+v9OhfhPF7JNVjMeyX+/i3b5wTH20T6yqjRZzdRuZiu39YD8AizDN 0 0.5280604362487793 eNpLDsoyM0uzN/c29THyA0J/QxAGkoYGhv4GBhACTgMl/Qz9jP3ASn1NveNj0w0AKWQQVg== 0 0.40367624163627625 eNrLj88yMsyzNzQw8IdjPyN/QxALxIaxIHLIND62gYGhP5T2NQZBv5iEGBMAOIcYBQ== 0 0.402869313955307 eNo1jN0KwlAMg1+pPfMHUaqFgWPbOfHOwURbFcGL+f6XzoKBkPBB4sN5zdN+2SVwCRc+HAfdvsQpVzNgBlGYEEl/EELCj0fl2CekXJWTjqDuKSP3F9y0d2FTcsmmC5PWdWXSuG5M6rvuXK5wfdBH5sN38wU6fid+ 0 0.37418854236602783 eNo9jEEKwEAIA78Us+C1H6j6g6Xsraf+/1ZDlwqZGCQ+c7nfB08Py5FWm0AB8hIbX94uaP5Fpy0rxkj2EyaKKovZCmJeCy9adRul 0 0.3668915927410126 eNrN0NuOmzAQANBfMsbQOvaqErhuG3NzyHILIYEA4Rb4/7dOVtmqUn+g9sMZz4zskSM7sqMd+v8XDv5J9fvte0f0rlBadmSjp5dHlcmFDHTda6l2idXTx/4qD9YVMp+e5bt1o9O+konVgLWMrQv0NVCvoD7ADRnc9OldPkhOY9XJjZyoVq2MrJJGf7mQK/TVciQ1TdVFDqShGdiRG0x2li1paQnWpKeVKsA7vYAXsFa5rGDiBiY/k5HeVCJLstAW8gnkJ3WSBzLvQgN+wQhhI5R7sSjMjXXeu0jMhU3e8cPxz1mL3FzZ4KVCmzPbvERseGbaP4oVr+zgH8QDbyz29csI1Dz2N/eBYx75q7vhhoevF0EIojB148Br0MpPRurqQLUoesshHIORp+AQTDwzMrcPBp4bhduCpZG7DdS/zU7AnelpyJ4ujs/cD6swMDma+dszRKpB9Mbx4PyywxHZOcejI78YIyI5twZHXA1rZnYpfvbsayF+3BnVOMAhCnGIPYz0kFu/AWlGxug= 0 0.34182849526405334 eNo9TE0LQkEI/Etqbh908HXpFbsqnYI6PGJvwaP/f0s3iGEcnVHvtw8cu3AttTTWjXILKLUS/YBx2122lQwdABydLDQGI8c0AA0QIswy+PdTyR3Ipdv7hA+5xlocjgc/5pIu0/ySwzKdu+zZMonn+lzX8gWEgSfL 0 0.3327667713165283 eNoLSDA0zbY3AAJDf0N/BAnBMBIGUMTiHZzj7e0NYHoRKmEsf0MIxhT1M0I2FaYOohZkFEwc1XZsAFUvpluRVcIggmcQkBBgBgAZjTbm 0 0.32539084553718567 eNqLj4kyM8m2N/IDQWMQ6W/uYWBo5Gvob2jgb+hvAEIGYArIBVMwPkgeyAOTIB6QNPKHMoDyhmDDjHyNfU09M4NyDQBUTxlQ 0 0.32035934925079346 eNrLTg0yMs2yNzQwDnfwTLK3NjD0MzQAAn8wCWIYwFhAKQQbqMDQ3x/BxQbQpRF8Q38QAokkOTjE2CeDrAGa7W+Y6hDnH26fCpaFYagGkGp/I39DPyNfY7+gqBQTABQjKdM= 0 0.31920701265335083 eNrLNw40yrc1MDAw9EfGyNDID0JD5IBklH+qgZ+xLxj6GfmY+kRnx5sDAJLuEjs= 0 0.3093946576118469 eNpdUe12gjAMfaWGOqfmjOmhOp3YoENFVFRU8IPJ+/9bqjjFcsi9udykTfGzyKqtP+2e1EIAgZjTubkWo88V5c1Y5HbTa63FyY5o0spEao9pxriz672D3rUWENpVEr7e6nE7glMj1p7qpSKBKcb616FMROBjonNnYOgIj8ZwEUv4wbO+ON2c6Qgv7O0MIWQ6oszpeBBwmXNUHxNsH1UjwK9U1ULsJib2d6qywMFWWRHq2ETaKLFGWCna4Ntc9fdYnaveHuuh6qQ4s3iuYhXsXyArcwI3w5P01dxNcS8DtWTcMS7cA+dT1o/oVbSlge5tXpmJ/F4tV6UQBGhr6IYqlgmu3JnayAMuGbcyxSkjQHpn4iAzDFxfpYzv3OZeT4Ik97UGYI6rZYH8s4yJJzFbwg3NFzIaaHgemFX5Lc25nnUqe247Erzo5XXTHvNfM1FKn+7kkZcrXr13fnvKZysyL8nhD25RrhY= 0 0.2888006567955017 eNoLSLYxyrM39DfyNPcx9jOCQ0MDQ38DDOBvCCQMQZJQZSaekbnB5gBAuhBL 0 0.2846047282218933 eNqLNUwxiLY3MjDwMzQw9DcwMPQz9DfyMwKzQKSBP5gEApAshICSYNrfEEyDtQF5QK0QA3yNfU094+MizQFHNha3 0 0.28270530700683594 eNpNTTkOgDAM+5KdsvMA1EZiZayY6P9nmtCUSpHjyEfOu8r27JKTshDMoiCUir4wOI183JkjQvk9IKYLYcJEL8FSNq4R8YFpsZe6aQGp9q7HpEihpqNeLb0C7i3X 0 0.2718176245689392 eNpFirEOwjAMRH/JaQSVOrh4JskVSmmGSiCEqgbU8P8bzgC15XunO1+Gvq7ndnfcO+utr0JZ6w2UINhgQFR5Q/9B8Qb4ReVhY9HtVH2UHBJ3JkqHxB8a5YQXZ7rKGW9eaZBeOWt+0/5OUQ6J21EmuGrlB03qFm6e5HLzBbH2Lbg= 0 0.19903601706027985 eNoLi0wwN86yN/M28TbxMfEz8jXyM/Y18jcEQyN/A38DQwN/QwNDP0MDEA3HIABl+2W5AwBuqxDl 0 0.19208961725234985 eNoLjQswM8qxN/E18jf0N/IzBJKGBgYgDAJgLhhCRf0hQhAaKACkDfyNgJqNvcMC4wwB8hIS/Q== 0 0.18675492703914642 eNotjLEKgDAQQ38puVodnUV6GUX/wEH8/820eJBAco8c5zXXe522JaOFVcSMpEKQPQkIoEDIhaPfpcVeO6ofRD92cjiRHKw86NH3ePABeJAZ0Q== 0 0.1738128811120987 eNpLD04wN8qxN/E18jM0MPQ38AeTBiAaBMBsIIFAYBV+QEGgGpAeA3+DSB8AUSIQRg== 0 0.17153193056583405 eNqLSckwsEi3N/E28THyN/I39DcAkgYGhiCWIYhhYADmAhlAGgj8DcEkiA9UZOAP0mRg4GcI0uIHNMLX2DczOtkMALg2FUM= 0 0.16632841527462006 eNoljHELgkAMxb/Sm4ESxd2OCIzoJkpdEB2Cgp1lff//mvrG+G1j74WpKTbJbjsuB7ML7pjMPrjDy7S4OR4VdxdlNG+QADh/OEpjO0z8lNr2+PFDKpuUV+VXXwhCIJ8BosO8qE7F7F4yyC+XlZJ50ta65GWs8z9gZyYx 0 0.16301044821739197 eNrLTQowNsy3N/QzDnXwT7K38Df0NzQwAGEY8Dc09DfyNYSyEVKG/hCMUGgE5fkbGBpAzQAzESZikkgakQSgCqDQyA/kgtjcNGMAYU4m4g== 0 0.16239310801029205 eNoLCQ4zM8mwN/Mz9DcCYkN/AyjwNwRh3+DcJEMAqasJEw== 0 0.1528320163488388 eNpLDEswtE+09zf0M/YzNDDwM/I38o3PjDYDAFRgBq8= 0 0.14728279411792755 eNqLTksxNs+wN/Yx8TXyM/YFQj9DPyN/Q38w6WvsbwAEhv4gDCENkIChP4JElkNWia7DPzAr3hgAcb8atA== 0 0.14394140243530273 eNrLj842N8yxN/Yz8jMyAAJ/Q39DEBntAgBgdga7 0 0.13745488226413727 eNqLTU0wMM6xN/Iz8rD0NfIz9DfyN/Q3MDAA0gYQYGgAZ/kbgKWB0M/QwNDPCEobwpSDSH8jv5SobDMAs/YVQA== 0 0.13435177505016327 eNrLio0wM862N/U28THxNfQ38jPyMzQw8Df0NwBRQMIfSANZRv4QliGYBpJAbOgHFAXJ+YFgdFCYIQDzIRLY 0 0.12831120193004608 eNrLDk4yNM6yN/Yz9jEyMPQ3MDAwNPAHMgwNgBSIBkMj3+ScEDMA+bYLGA== 0 0.12485910207033157 eNqLjggwTjWItjcwMDD0N4AB11QHwxh793wH0yR7n6DwLBMAxoIKOw== 0 0.101582832634449 eNpLDgswTTWItvc3NIABQ38o6W/kD6KB0M8IiI19QzJTjQAqYQwR']\n"
     ]
    }
   ],
   "source": [
    "import os\n",
    "import glob\n",
    "\n",
    "ids = []\n",
    "HEIGHT = 512\n",
    "WIDTH = 512\n",
    "prediction_strings = []\n",
    "# Define the directory containing the files\n",
    "directory_path = '/kaggle/input/hubmap-hacking-the-human-vasculature/test/'\n",
    "\n",
    "\n",
    "def get_file_name_without_extension(file_path):\n",
    "    # Get the base name of the file (i.e., the file name with extension)\n",
    "    base_name = os.path.basename(file_path)\n",
    "    # Split the base name into file name and extension\n",
    "    file_name, _ = os.path.splitext(base_name)\n",
    "    return file_name\n",
    "\n",
    "# Define the specific action to perform on each file\n",
    "def do_process(file_path):\n",
    "    filename = get_file_name_without_extension(file_path)\n",
    "    ids.append(filename)\n",
    "    instance_strings = []\n",
    "    result=sahi_detect(config_path=cfg, model_path=checkpoint_file, image_path=file_path, confidence_threshold=0.1)\n",
    "    filtered_predictions = filter_contained_predictions(result.object_prediction_list, overlap_threshold=0.001)\n",
    "    result.object_prediction_list = filtered_predictions\n",
    "    for pred in result.object_prediction_list:\n",
    "        if pred.category.id != 0:\n",
    "            continue\n",
    "        label = pred.category.id\n",
    "        score = pred.score.value\n",
    "        mask = pred.mask.bool_mask\n",
    "        mask_string = encode_binary_mask(mask).decode('utf-8')        \n",
    "        instance_string = f'{label} {score} {mask_string}'\n",
    "        instance_strings.append(instance_string)\n",
    "    prediction_strings.append(' '.join(instance_strings))\n",
    "    print(ids)\n",
    "    print(prediction_strings)\n",
    "\n",
    "# Get a list of all files in the directory (you can specify a file pattern, e.g., '*.txt')\n",
    "file_pattern = os.path.join(directory_path, '*.tif')\n",
    "file_list = glob.glob(file_pattern)\n",
    "\n",
    "# Iterate through each file and perform the action\n",
    "for file_path in file_list:\n",
    "    do_process(file_path)\n"
   ]
  },
  {
   "cell_type": "code",
   "execution_count": 13,
   "id": "c1e471a9",
   "metadata": {
    "execution": {
     "iopub.execute_input": "2024-06-01T22:53:32.754873Z",
     "iopub.status.busy": "2024-06-01T22:53:32.754521Z",
     "iopub.status.idle": "2024-06-01T22:53:32.762761Z",
     "shell.execute_reply": "2024-06-01T22:53:32.761891Z"
    },
    "papermill": {
     "duration": 0.017527,
     "end_time": "2024-06-01T22:53:32.764693",
     "exception": false,
     "start_time": "2024-06-01T22:53:32.747166",
     "status": "completed"
    },
    "tags": []
   },
   "outputs": [],
   "source": [
    "import pandas as pd\n",
    "sub = pd.DataFrame(dict(\n",
    "    id=ids,\n",
    "    height=[HEIGHT] * len(ids),\n",
    "    width=[WIDTH] * len(ids),\n",
    "    prediction_string=prediction_strings\n",
    "))"
   ]
  },
  {
   "cell_type": "code",
   "execution_count": 14,
   "id": "39acf528",
   "metadata": {
    "execution": {
     "iopub.execute_input": "2024-06-01T22:53:32.778020Z",
     "iopub.status.busy": "2024-06-01T22:53:32.777752Z",
     "iopub.status.idle": "2024-06-01T22:53:32.785149Z",
     "shell.execute_reply": "2024-06-01T22:53:32.784162Z"
    },
    "papermill": {
     "duration": 0.0163,
     "end_time": "2024-06-01T22:53:32.787135",
     "exception": false,
     "start_time": "2024-06-01T22:53:32.770835",
     "status": "completed"
    },
    "tags": []
   },
   "outputs": [],
   "source": [
    "sub.to_csv('submission.csv', index=False)"
   ]
  }
 ],
 "metadata": {
  "kaggle": {
   "accelerator": "gpu",
   "dataSources": [
    {
     "databundleVersionId": 5822112,
     "sourceId": 52279,
     "sourceType": "competition"
    },
    {
     "datasetId": 3391298,
     "sourceId": 5905549,
     "sourceType": "datasetVersion"
    },
    {
     "datasetId": 3465237,
     "sourceId": 6056210,
     "sourceType": "datasetVersion"
    },
    {
     "datasetId": 3484793,
     "sourceId": 6085957,
     "sourceType": "datasetVersion"
    },
    {
     "datasetId": 3575473,
     "sourceId": 6225321,
     "sourceType": "datasetVersion"
    },
    {
     "datasetId": 3575833,
     "sourceId": 6225623,
     "sourceType": "datasetVersion"
    },
    {
     "datasetId": 3575870,
     "sourceId": 6225706,
     "sourceType": "datasetVersion"
    },
    {
     "datasetId": 3575901,
     "sourceId": 6226761,
     "sourceType": "datasetVersion"
    },
    {
     "datasetId": 5090905,
     "sourceId": 8553564,
     "sourceType": "datasetVersion"
    }
   ],
   "dockerImageVersionId": 30528,
   "isGpuEnabled": true,
   "isInternetEnabled": false,
   "language": "python",
   "sourceType": "notebook"
  },
  "kernelspec": {
   "display_name": "Python 3",
   "language": "python",
   "name": "python3"
  },
  "language_info": {
   "codemirror_mode": {
    "name": "ipython",
    "version": 3
   },
   "file_extension": ".py",
   "mimetype": "text/x-python",
   "name": "python",
   "nbconvert_exporter": "python",
   "pygments_lexer": "ipython3",
   "version": "3.10.12"
  },
  "papermill": {
   "default_parameters": {},
   "duration": 237.792754,
   "end_time": "2024-06-01T22:53:35.748892",
   "environment_variables": {},
   "exception": null,
   "input_path": "__notebook__.ipynb",
   "output_path": "__notebook__.ipynb",
   "parameters": {},
   "start_time": "2024-06-01T22:49:37.956138",
   "version": "2.4.0"
  }
 },
 "nbformat": 4,
 "nbformat_minor": 5
}
